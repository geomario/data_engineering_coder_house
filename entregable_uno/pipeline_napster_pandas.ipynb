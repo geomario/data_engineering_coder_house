{
 "cells": [
  {
   "attachments": {},
   "cell_type": "markdown",
   "metadata": {},
   "source": [
    "# Entregable # 1\n",
    "\n",
    "El primer entregable para CODER HOUSE debe extraer datos de una API publica y crear una tabla en Redshift. Una vez creada la tabla, se debe cargar los datos en Redshift.\n",
    "\n",
    "![arquitectura_propuesta](images/_home_marm1984_github_data_engineering_coder_house_entregable_uno_entrega_1.png)\n"
   ]
  },
  {
   "cell_type": "code",
   "execution_count": 1,
   "metadata": {},
   "outputs": [],
   "source": [
    "from colorama import Back, Fore, Style\n",
    "import pandas as pd\n",
    "import requests\n",
    "import psycopg2\n",
    "import random\n",
    "import os"
   ]
  },
  {
   "cell_type": "code",
   "execution_count": 2,
   "metadata": {},
   "outputs": [],
   "source": [
    "# Function that requests over HTTP a JSON object from a given URL\n",
    "\n",
    "JSON = int | str | float | bool | None | dict[str, \"JSON\"] | list[\"JSON\"]\n",
    "JSONObject = dict[str, JSON]\n",
    "\n",
    "def http_get_sync(url: str) -> JSONObject:\n",
    "    \"\"\"Synchronously performs an HTTP GET request and returns the JSON response.\"\"\"\n",
    "    try :\n",
    "        print(Back.BLACK + Fore.CYAN + \"GET: \" + url + Style.RESET_ALL)\n",
    "        return requests.get(url).json()\n",
    "    except:\n",
    "        print(Back.BLACK + Fore.RED + \"ERROR: \" + url + Style.RESET_ALL)\n",
    "        return {}"
   ]
  },
  {
   "cell_type": "code",
   "execution_count": 3,
   "metadata": {},
   "outputs": [],
   "source": [
    "# The limit parameters for the API calls\n",
    "\n",
    "API_KEY = os.environ.get(\"NAPSTER_API_KEY\")\n",
    "OFFSET = 1000  # Number of artists to seed in db"
   ]
  },
  {
   "cell_type": "code",
   "execution_count": 4,
   "metadata": {},
   "outputs": [],
   "source": [
    "# The URL for the API call\n",
    "\n",
    "# artist_page_offset = 116 # johnny-cash 212 Bob Dylan\n",
    "artist_page_offset = random.randint(0, OFFSET)\n",
    "napster_url = f'https://napi-v2-2-cloud-run-b3gtd5nmxq-uw.a.run.app/v2.2/artists/top{API_KEY}&limit=1&offset={artist_page_offset}'"
   ]
  },
  {
   "cell_type": "code",
   "execution_count": 5,
   "metadata": {},
   "outputs": [
    {
     "name": "stdout",
     "output_type": "stream",
     "text": [
      "\u001b[40m\u001b[36mGET: https://napi-v2-2-cloud-run-b3gtd5nmxq-uw.a.run.app/v2.2/artists/top?apikey=MjZkYmFhZTctMjFkZi00NjY3LWEwNGMtZDYzNmQ4YmM3OThi&limit=1&offset=559\u001b[0m\n"
     ]
    }
   ],
   "source": [
    "# Get the JSON object from the URL\n",
    "\n",
    "napster_json = http_get_sync(napster_url)"
   ]
  },
  {
   "cell_type": "code",
   "execution_count": 6,
   "metadata": {},
   "outputs": [
    {
     "data": {
      "text/plain": [
       "{'artists': [{'type': 'artist',\n",
       "   'id': 'art.126098520',\n",
       "   'href': 'https://api.napster.com/v2.2/artists/art.126098520',\n",
       "   'name': 'T-Rex',\n",
       "   'shortcut': 't-rex-2',\n",
       "   'blurbs': [],\n",
       "   'albumGroups': {'others': ['alb.776237185',\n",
       "     'alb.773501749',\n",
       "     'alb.774907491',\n",
       "     'alb.745350023',\n",
       "     'alb.768190520',\n",
       "     'alb.765902321',\n",
       "     'alb.755359372',\n",
       "     'alb.755359331',\n",
       "     'alb.756552804',\n",
       "     'alb.748698980',\n",
       "     'alb.738594228',\n",
       "     'alb.737037627',\n",
       "     'alb.724275496',\n",
       "     'alb.727626046',\n",
       "     'alb.722668987',\n",
       "     'alb.720659941',\n",
       "     'alb.715863148',\n",
       "     'alb.718638096',\n",
       "     'alb.721399057',\n",
       "     'alb.699328337',\n",
       "     'alb.717252069',\n",
       "     'alb.717359139',\n",
       "     'alb.714466953',\n",
       "     'alb.718638403',\n",
       "     'alb.718544666',\n",
       "     'alb.713566677',\n",
       "     'alb.713571128',\n",
       "     'alb.711136414',\n",
       "     'alb.701946636',\n",
       "     'alb.722055833',\n",
       "     'alb.696418464',\n",
       "     'alb.695680365',\n",
       "     'alb.695649678',\n",
       "     'alb.661900866',\n",
       "     'alb.660333415',\n",
       "     'alb.663360022',\n",
       "     'alb.659822218',\n",
       "     'alb.659287770',\n",
       "     'alb.659287836',\n",
       "     'alb.657605768',\n",
       "     'alb.648069150',\n",
       "     'alb.659297076',\n",
       "     'alb.649699275',\n",
       "     'alb.649210453',\n",
       "     'alb.654894047',\n",
       "     'alb.646166383',\n",
       "     'alb.639890525',\n",
       "     'alb.643418900',\n",
       "     'alb.642341918',\n",
       "     'alb.637775913',\n",
       "     'alb.639070318',\n",
       "     'alb.706976830',\n",
       "     'alb.635196460',\n",
       "     'alb.633019213',\n",
       "     'alb.633238612',\n",
       "     'alb.630786491',\n",
       "     'alb.629266545',\n",
       "     'alb.629765209',\n",
       "     'alb.628922339',\n",
       "     'alb.621782025',\n",
       "     'alb.622457758',\n",
       "     'alb.620757243',\n",
       "     'alb.618892313',\n",
       "     'alb.618892499',\n",
       "     'alb.608912178',\n",
       "     'alb.602947883',\n",
       "     'alb.662704430',\n",
       "     'alb.596576538',\n",
       "     'alb.593950689',\n",
       "     'alb.588007797',\n",
       "     'alb.592829045',\n",
       "     'alb.590205769',\n",
       "     'alb.571055961',\n",
       "     'alb.572174781',\n",
       "     'alb.570063571',\n",
       "     'alb.565004341',\n",
       "     'alb.564831212',\n",
       "     'alb.563025934',\n",
       "     'alb.563214632',\n",
       "     'alb.563227403',\n",
       "     'alb.565041646',\n",
       "     'alb.565223051',\n",
       "     'alb.611719192',\n",
       "     'alb.756547381',\n",
       "     'alb.559330383',\n",
       "     'alb.561498158',\n",
       "     'alb.560892501',\n",
       "     'alb.555642163',\n",
       "     'alb.557502283',\n",
       "     'alb.553396384',\n",
       "     'alb.599939076',\n",
       "     'alb.548032540',\n",
       "     'alb.623785407',\n",
       "     'alb.537480984',\n",
       "     'alb.537556192',\n",
       "     'alb.545230694',\n",
       "     'alb.611748784',\n",
       "     'alb.532587618',\n",
       "     'alb.529043450',\n",
       "     'alb.528978016',\n",
       "     'alb.611864208',\n",
       "     'alb.530396238',\n",
       "     'alb.522920040',\n",
       "     'alb.522896045',\n",
       "     'alb.611966003',\n",
       "     'alb.530266831',\n",
       "     'alb.519006112',\n",
       "     'alb.518473522',\n",
       "     'alb.513453201',\n",
       "     'alb.636070215',\n",
       "     'alb.477132875',\n",
       "     'alb.484911082',\n",
       "     'alb.452129883',\n",
       "     'alb.446185445',\n",
       "     'alb.441770763',\n",
       "     'alb.444358679',\n",
       "     'alb.441771946',\n",
       "     'alb.441409492',\n",
       "     'alb.425301411',\n",
       "     'alb.422364978',\n",
       "     'alb.393959657',\n",
       "     'alb.390821788',\n",
       "     'alb.381249252',\n",
       "     'alb.363521810',\n",
       "     'alb.362217897',\n",
       "     'alb.416135486',\n",
       "     'alb.332050397',\n",
       "     'alb.343172811',\n",
       "     'alb.757031254',\n",
       "     'alb.297887691',\n",
       "     'alb.284400529',\n",
       "     'alb.284784982',\n",
       "     'alb.283029878',\n",
       "     'alb.283007218',\n",
       "     'alb.614163833',\n",
       "     'alb.620779004',\n",
       "     'alb.614164484',\n",
       "     'alb.295383259',\n",
       "     'alb.443927108',\n",
       "     'alb.614861907',\n",
       "     'alb.288043706',\n",
       "     'alb.567480753',\n",
       "     'alb.622873337',\n",
       "     'alb.537735305'],\n",
       "    'compilations': ['alb.774193964',\n",
       "     'alb.735147516',\n",
       "     'alb.735142846',\n",
       "     'alb.731785328',\n",
       "     'alb.730233762',\n",
       "     'alb.730232597',\n",
       "     'alb.716459715',\n",
       "     'alb.714649891',\n",
       "     'alb.698222960',\n",
       "     'alb.688464211',\n",
       "     'alb.688462812',\n",
       "     'alb.686863070',\n",
       "     'alb.686519430',\n",
       "     'alb.684956558',\n",
       "     'alb.683186521',\n",
       "     'alb.683202003',\n",
       "     'alb.683188347',\n",
       "     'alb.680036901',\n",
       "     'alb.362174131',\n",
       "     'alb.674234426',\n",
       "     'alb.673947150',\n",
       "     'alb.658460108',\n",
       "     'alb.658461554',\n",
       "     'alb.654850348',\n",
       "     'alb.651708872',\n",
       "     'alb.651822108',\n",
       "     'alb.651557036',\n",
       "     'alb.651795017',\n",
       "     'alb.642952249',\n",
       "     'alb.633039982',\n",
       "     'alb.632939830',\n",
       "     'alb.632937194',\n",
       "     'alb.632741775',\n",
       "     'alb.632088542',\n",
       "     'alb.631655940',\n",
       "     'alb.631658371',\n",
       "     'alb.631656934',\n",
       "     'alb.631654927',\n",
       "     'alb.630382866',\n",
       "     'alb.630434514',\n",
       "     'alb.630382198',\n",
       "     'alb.630384517',\n",
       "     'alb.629936682',\n",
       "     'alb.619331821',\n",
       "     'alb.612990152',\n",
       "     'alb.610637509',\n",
       "     'alb.604356073',\n",
       "     'alb.610637335',\n",
       "     'alb.602389820',\n",
       "     'alb.599274150',\n",
       "     'alb.602046478',\n",
       "     'alb.596997753',\n",
       "     'alb.595858570',\n",
       "     'alb.595858387',\n",
       "     'alb.595688327',\n",
       "     'alb.595609708',\n",
       "     'alb.595613806',\n",
       "     'alb.594806875',\n",
       "     'alb.594806146',\n",
       "     'alb.594442151',\n",
       "     'alb.594444016',\n",
       "     'alb.594643916',\n",
       "     'alb.594616150',\n",
       "     'alb.593960906',\n",
       "     'alb.594247429',\n",
       "     'alb.593842466',\n",
       "     'alb.593839419',\n",
       "     'alb.593626957',\n",
       "     'alb.593978640',\n",
       "     'alb.593638705',\n",
       "     'alb.593960486',\n",
       "     'alb.593638999',\n",
       "     'alb.593639136',\n",
       "     'alb.593632021',\n",
       "     'alb.593842496',\n",
       "     'alb.593633195',\n",
       "     'alb.593641946',\n",
       "     'alb.593961034',\n",
       "     'alb.593633077',\n",
       "     'alb.593839480',\n",
       "     'alb.593632273',\n",
       "     'alb.593833870',\n",
       "     'alb.593642102',\n",
       "     'alb.593159817',\n",
       "     'alb.593633001',\n",
       "     'alb.593626254',\n",
       "     'alb.589488691',\n",
       "     'alb.587379791',\n",
       "     'alb.584982057',\n",
       "     'alb.550989780',\n",
       "     'alb.455368662',\n",
       "     'alb.327465783',\n",
       "     'alb.326622456',\n",
       "     'alb.326638880',\n",
       "     'alb.325967732',\n",
       "     'alb.325928016',\n",
       "     'alb.325778909',\n",
       "     'alb.325643748',\n",
       "     'alb.204779449',\n",
       "     'alb.142594548',\n",
       "     'alb.132727902',\n",
       "     'alb.616386454'],\n",
       "    'singlesAndEPs': ['alb.755340405',\n",
       "     'alb.731157481',\n",
       "     'alb.725540605',\n",
       "     'alb.713553362',\n",
       "     'alb.713446566',\n",
       "     'alb.713566964',\n",
       "     'alb.713549031',\n",
       "     'alb.713548225',\n",
       "     'alb.713567439',\n",
       "     'alb.713570439',\n",
       "     'alb.713567430',\n",
       "     'alb.713553082',\n",
       "     'alb.713546735',\n",
       "     'alb.713417383',\n",
       "     'alb.713451513',\n",
       "     'alb.713417595',\n",
       "     'alb.713446332',\n",
       "     'alb.713446607',\n",
       "     'alb.713447293',\n",
       "     'alb.713447093',\n",
       "     'alb.713570889',\n",
       "     'alb.713570825',\n",
       "     'alb.713417902',\n",
       "     'alb.713574554',\n",
       "     'alb.713588630',\n",
       "     'alb.713418639',\n",
       "     'alb.713571098',\n",
       "     'alb.672571340',\n",
       "     'alb.651637379',\n",
       "     'alb.647635079',\n",
       "     'alb.647596777',\n",
       "     'alb.648121465',\n",
       "     'alb.598770153',\n",
       "     'alb.592826823',\n",
       "     'alb.593915073',\n",
       "     'alb.581398281',\n",
       "     'alb.552569949',\n",
       "     'alb.516630422',\n",
       "     'alb.513673577',\n",
       "     'alb.316968801',\n",
       "     'alb.322369922',\n",
       "     'alb.482169836',\n",
       "     'alb.468689025',\n",
       "     'alb.442304136',\n",
       "     'alb.442274304',\n",
       "     'alb.433431514',\n",
       "     'alb.403971699',\n",
       "     'alb.397941140',\n",
       "     'alb.390321952',\n",
       "     'alb.377977399',\n",
       "     'alb.377987168',\n",
       "     'alb.377974445',\n",
       "     'alb.370257626',\n",
       "     'alb.371015770',\n",
       "     'alb.394777911',\n",
       "     'alb.394777250',\n",
       "     'alb.416624226',\n",
       "     'alb.342799384',\n",
       "     'alb.338903483',\n",
       "     'alb.334845868',\n",
       "     'alb.334179066',\n",
       "     'alb.331166419',\n",
       "     'alb.327663522',\n",
       "     'alb.362178703',\n",
       "     'alb.325862565',\n",
       "     'alb.321917734',\n",
       "     'alb.325218989',\n",
       "     'alb.321879796',\n",
       "     'alb.321937207',\n",
       "     'alb.309682564',\n",
       "     'alb.298585828',\n",
       "     'alb.273656461',\n",
       "     'alb.223593783',\n",
       "     'alb.132428553',\n",
       "     'alb.135699871',\n",
       "     'alb.126099061',\n",
       "     'alb.625816213'],\n",
       "    'main': ['alb.628038731',\n",
       "     'alb.522144020',\n",
       "     'alb.401035322',\n",
       "     'alb.333508067',\n",
       "     'alb.330228022',\n",
       "     'alb.234191887']},\n",
       "   'links': {'albums': {'href': 'https://api.napster.com/v2.2/artists/art.126098520/albums'},\n",
       "    'images': {'href': 'https://api.napster.com/v2.2/artists/art.126098520/images'},\n",
       "    'posts': {'href': 'https://api.napster.com/v2.2/artists/art.126098520/posts'},\n",
       "    'topTracks': {'href': 'https://api.napster.com/v2.2/artists/art.126098520/tracks/top'},\n",
       "    'genres': {'ids': ['g.146',\n",
       "      'g.33',\n",
       "      'g.204',\n",
       "      'g.194',\n",
       "      'g.115',\n",
       "      'g.453',\n",
       "      'g.259',\n",
       "      'g.71',\n",
       "      'g.287'],\n",
       "     'href': 'https://api.napster.com/v2.2/genres/g.146,g.33,g.204,g.194,g.115,g.453,g.259,g.71,g.287'},\n",
       "    'stations': {'ids': ['sas.126098520'],\n",
       "     'href': 'https://api.napster.com/v2.2/stations/sas.126098520'}}}],\n",
       " 'meta': {'totalCount': 1000, 'returnedCount': 1}}"
      ]
     },
     "execution_count": 6,
     "metadata": {},
     "output_type": "execute_result"
    }
   ],
   "source": [
    "napster_json"
   ]
  },
  {
   "cell_type": "code",
   "execution_count": 7,
   "metadata": {},
   "outputs": [
    {
     "name": "stdout",
     "output_type": "stream",
     "text": [
      "type\n",
      "id\n",
      "href\n",
      "name\n",
      "shortcut\n",
      "blurbs\n",
      "albumGroups\n",
      "links\n"
     ]
    }
   ],
   "source": [
    "# Get all the keys inside artist object\n",
    "\n",
    "for key in napster_json['artists'][0].keys():\n",
    "    print(key)"
   ]
  },
  {
   "cell_type": "code",
   "execution_count": 8,
   "metadata": {},
   "outputs": [
    {
     "data": {
      "text/plain": [
       "'t-rex-2'"
      ]
     },
     "execution_count": 8,
     "metadata": {},
     "output_type": "execute_result"
    }
   ],
   "source": [
    "# Check shortcut for artist name\n",
    "napster_json['artists'][0]['shortcut']"
   ]
  },
  {
   "attachments": {},
   "cell_type": "markdown",
   "metadata": {},
   "source": [
    "# Creating Table\n",
    "\n",
    "The table for the artist, creates an Artist. Each artist has an ID, type, blurbs, name, hred and shorcut.\n",
    "\n",
    "## Artist Table \n",
    "\n",
    "![Artist Table](images/artist_table.png)\n",
    "\n",
    "# Data Structures\n",
    "\n",
    "id = string\n",
    "type = string\n",
    "href = string\n",
    "name = string\n",
    "shortcut = string\n"
   ]
  },
  {
   "cell_type": "code",
   "execution_count": 9,
   "metadata": {},
   "outputs": [],
   "source": [
    "# Import environment variables\n",
    "\n",
    "host = os.environ['HOST']\n",
    "port = os.environ['PORT']\n",
    "user = os.environ['USER']\n",
    "password = os.environ['PASSWORD']\n",
    "database = os.environ['DATABASE']"
   ]
  },
  {
   "cell_type": "code",
   "execution_count": 10,
   "metadata": {},
   "outputs": [
    {
     "name": "stdout",
     "output_type": "stream",
     "text": [
      "\u001b[40m\u001b[32mSUCCESS: Connection to database\u001b[0m\n"
     ]
    }
   ],
   "source": [
    "# Create a connection to the database\n",
    "\n",
    "try:\n",
    "    conn = psycopg2.connect(\n",
    "        host=host,\n",
    "        port=port,\n",
    "        user=user,\n",
    "        password=password,\n",
    "        database=database\n",
    "    )\n",
    "    print(Back.BLACK + Fore.GREEN + \"SUCCESS: Connection to database\" + Style.RESET_ALL)\n",
    "except:\n",
    "    print(Back.BLACK + Fore.RED + \"ERROR: Connection to database\" + Style.RESET_ALL)"
   ]
  },
  {
   "cell_type": "code",
   "execution_count": 11,
   "metadata": {},
   "outputs": [
    {
     "name": "stdout",
     "output_type": "stream",
     "text": [
      "\u001b[40m\u001b[32mSUCCESS: Cursor created\u001b[0m\n"
     ]
    }
   ],
   "source": [
    "# Create a cursor to execute SQL commands\n",
    "\n",
    "try:\n",
    "    cur = conn.cursor()\n",
    "    print(Back.BLACK + Fore.GREEN + \"SUCCESS: Cursor created\" + Style.RESET_ALL)\n",
    "except:\n",
    "    print(Back.BLACK + Fore.RED + \"ERROR: Cursor not created\" + Style.RESET_ALL)"
   ]
  },
  {
   "cell_type": "code",
   "execution_count": 12,
   "metadata": {},
   "outputs": [
    {
     "name": "stdout",
     "output_type": "stream",
     "text": [
      "[('data-engineer-database', 'marm1984_coderhouse', 'artist_napster', 'BASE TABLE', None, None, None, None, None), ('data-engineer-database', 'marm1984_coderhouse', 'artist', 'BASE TABLE', None, None, None, None, None)]\n"
     ]
    }
   ],
   "source": [
    "# Check the connection\n",
    "personal_schema = os.environ['PERSONAL_SCHEMA']\n",
    "\n",
    "#  Check schema exists from CODER\n",
    "cur.execute(f\"SELECT * FROM information_schema.tables WHERE table_schema = '{personal_schema}';\")\n",
    "print(cur.fetchall())"
   ]
  },
  {
   "cell_type": "code",
   "execution_count": 13,
   "metadata": {},
   "outputs": [],
   "source": [
    "# Drop table if exists\n",
    "\n",
    "cur.execute(f\"DROP TABLE IF EXISTS {personal_schema}.artist;\")"
   ]
  },
  {
   "cell_type": "code",
   "execution_count": 14,
   "metadata": {},
   "outputs": [
    {
     "name": "stdout",
     "output_type": "stream",
     "text": [
      "\u001b[40m\u001b[32mSUCCESS: Table created\u001b[0m\n"
     ]
    }
   ],
   "source": [
    "# Create a table for artists\n",
    "\n",
    "try:\n",
    "    cur.execute(f\"\"\"\n",
    "                CREATE TABLE IF NOT EXISTS {personal_schema}.artist (\n",
    "                    id VARCHAR(255) PRIMARY KEY,\n",
    "                    name VARCHAR(255),\n",
    "                    shortcut VARCHAR(255),\n",
    "                    url VARCHAR(255),\n",
    "                    type VARCHAR(255)\n",
    "                );\n",
    "                \"\"\")\n",
    "    print(Back.BLACK + Fore.GREEN + \"SUCCESS: Table created\" + Style.RESET_ALL)\n",
    "except:\n",
    "    print(Back.BLACK + Fore.RED + \"ERROR: Table not created\" + Style.RESET_ALL)\n",
    "    \n",
    "                "
   ]
  },
  {
   "cell_type": "code",
   "execution_count": 15,
   "metadata": {},
   "outputs": [
    {
     "data": {
      "text/html": [
       "<div>\n",
       "<style scoped>\n",
       "    .dataframe tbody tr th:only-of-type {\n",
       "        vertical-align: middle;\n",
       "    }\n",
       "\n",
       "    .dataframe tbody tr th {\n",
       "        vertical-align: top;\n",
       "    }\n",
       "\n",
       "    .dataframe thead th {\n",
       "        text-align: right;\n",
       "    }\n",
       "</style>\n",
       "<table border=\"1\" class=\"dataframe\">\n",
       "  <thead>\n",
       "    <tr style=\"text-align: right;\">\n",
       "      <th></th>\n",
       "      <th>type</th>\n",
       "      <th>id</th>\n",
       "      <th>href</th>\n",
       "      <th>name</th>\n",
       "      <th>shortcut</th>\n",
       "      <th>blurbs</th>\n",
       "      <th>albumGroups</th>\n",
       "      <th>links</th>\n",
       "    </tr>\n",
       "  </thead>\n",
       "  <tbody>\n",
       "    <tr>\n",
       "      <th>0</th>\n",
       "      <td>artist</td>\n",
       "      <td>art.126098520</td>\n",
       "      <td>https://api.napster.com/v2.2/artists/art.12609...</td>\n",
       "      <td>T-Rex</td>\n",
       "      <td>t-rex-2</td>\n",
       "      <td>[]</td>\n",
       "      <td>{'others': ['alb.776237185', 'alb.773501749', ...</td>\n",
       "      <td>{'albums': {'href': 'https://api.napster.com/v...</td>\n",
       "    </tr>\n",
       "  </tbody>\n",
       "</table>\n",
       "</div>"
      ],
      "text/plain": [
       "     type             id                                               href  \\\n",
       "0  artist  art.126098520  https://api.napster.com/v2.2/artists/art.12609...   \n",
       "\n",
       "    name shortcut blurbs                                        albumGroups  \\\n",
       "0  T-Rex  t-rex-2     []  {'others': ['alb.776237185', 'alb.773501749', ...   \n",
       "\n",
       "                                               links  \n",
       "0  {'albums': {'href': 'https://api.napster.com/v...  "
      ]
     },
     "execution_count": 15,
     "metadata": {},
     "output_type": "execute_result"
    }
   ],
   "source": [
    "# Create dataframe from JSON object\n",
    "\n",
    "df_artist = pd.DataFrame.from_dict(napster_json['artists'])\n",
    "df_artist.head()"
   ]
  },
  {
   "cell_type": "code",
   "execution_count": 16,
   "metadata": {},
   "outputs": [],
   "source": [
    "# Create a list of columns to drop\n",
    "\n",
    "columns_table = ['id', 'name', 'shortcut', 'href', 'type']\n",
    "\n",
    "# Create a list of columns to keep\n",
    "for column in df_artist.columns:\n",
    "    if column not in columns_table:\n",
    "        df_artist.drop(column, axis=1, inplace=True)"
   ]
  },
  {
   "cell_type": "code",
   "execution_count": 17,
   "metadata": {},
   "outputs": [
    {
     "data": {
      "text/html": [
       "<div>\n",
       "<style scoped>\n",
       "    .dataframe tbody tr th:only-of-type {\n",
       "        vertical-align: middle;\n",
       "    }\n",
       "\n",
       "    .dataframe tbody tr th {\n",
       "        vertical-align: top;\n",
       "    }\n",
       "\n",
       "    .dataframe thead th {\n",
       "        text-align: right;\n",
       "    }\n",
       "</style>\n",
       "<table border=\"1\" class=\"dataframe\">\n",
       "  <thead>\n",
       "    <tr style=\"text-align: right;\">\n",
       "      <th></th>\n",
       "      <th>type</th>\n",
       "      <th>id</th>\n",
       "      <th>href</th>\n",
       "      <th>name</th>\n",
       "      <th>shortcut</th>\n",
       "    </tr>\n",
       "  </thead>\n",
       "  <tbody>\n",
       "    <tr>\n",
       "      <th>0</th>\n",
       "      <td>artist</td>\n",
       "      <td>art.126098520</td>\n",
       "      <td>https://api.napster.com/v2.2/artists/art.12609...</td>\n",
       "      <td>T-Rex</td>\n",
       "      <td>t-rex-2</td>\n",
       "    </tr>\n",
       "  </tbody>\n",
       "</table>\n",
       "</div>"
      ],
      "text/plain": [
       "     type             id                                               href  \\\n",
       "0  artist  art.126098520  https://api.napster.com/v2.2/artists/art.12609...   \n",
       "\n",
       "    name shortcut  \n",
       "0  T-Rex  t-rex-2  "
      ]
     },
     "execution_count": 17,
     "metadata": {},
     "output_type": "execute_result"
    }
   ],
   "source": [
    "df_artist.head()"
   ]
  },
  {
   "cell_type": "code",
   "execution_count": 18,
   "metadata": {},
   "outputs": [
    {
     "name": "stdout",
     "output_type": "stream",
     "text": [
      "\u001b[40m\u001b[32mSUCCESS: Dataframe delivered to database\u001b[0m\n"
     ]
    }
   ],
   "source": [
    "# Deliver the dataframe to the database\n",
    "\n",
    "try:\n",
    "    for index, row in df_artist.iterrows():\n",
    "        cur.execute(f\"\"\"\n",
    "                    INSERT INTO {personal_schema}.artist (id, name, shortcut, url, type)\n",
    "                    VALUES ('{row['id']}', '{row['name']}', '{row['shortcut']}', '{row['href']}', '{row['type']}');\n",
    "                    \"\"\")\n",
    "        conn.commit()\n",
    "        print(Back.BLACK + Fore.GREEN + \"SUCCESS: Dataframe delivered to database\" + Style.RESET_ALL)\n",
    "except Exception as e:\n",
    "    print(e)\n",
    "    print(Back.BLACK + Fore.RED + \"ERROR: Dataframe not delivered to database\" + Style.RESET_ALL)"
   ]
  },
  {
   "cell_type": "code",
   "execution_count": 19,
   "metadata": {},
   "outputs": [
    {
     "name": "stdout",
     "output_type": "stream",
     "text": [
      "\u001b[40m\u001b[32mSUCCESS: Dataframe delivered to database\u001b[0m\n",
      "('art.126098520', 'T-Rex', 't-rex-2', 'https://api.napster.com/v2.2/artists/art.126098520', 'artist')\n"
     ]
    }
   ],
   "source": [
    "# Test and bring back the data from the database\n",
    "\n",
    "try:\n",
    "    cur.execute(f\"SELECT * FROM {personal_schema}.artist;\")\n",
    "    print(Back.BLACK + Fore.GREEN + \"SUCCESS: Dataframe delivered to database\" + Style.RESET_ALL)\n",
    "    for row in cur.fetchall():\n",
    "        print(row)\n",
    "except:\n",
    "    print(Back.BLACK + Fore.RED + \"ERROR: Dataframe not delivered to database\" + Style.RESET_ALL)"
   ]
  }
 ],
 "metadata": {
  "kernelspec": {
   "display_name": "data-engineering-entregas-hmaExLLD-py3.10",
   "language": "python",
   "name": "python3"
  },
  "language_info": {
   "codemirror_mode": {
    "name": "ipython",
    "version": 3
   },
   "file_extension": ".py",
   "mimetype": "text/x-python",
   "name": "python",
   "nbconvert_exporter": "python",
   "pygments_lexer": "ipython3",
   "version": "3.10.6"
  },
  "orig_nbformat": 4
 },
 "nbformat": 4,
 "nbformat_minor": 2
}
